{
  "cells": [
    {
      "cell_type": "markdown",
      "metadata": {
        "id": "8wLWsPJpachV"
      },
      "source": [
        "# Job 7"
      ]
    },
    {
      "cell_type": "code",
      "execution_count": null,
      "metadata": {
        "id": "AujEycVEachh"
      },
      "outputs": [],
      "source": [
        "def Add(a, b):\n",
        "    return a+b"
      ]
    },
    {
      "cell_type": "code",
      "execution_count": null,
      "metadata": {
        "id": "0Z-ltXB6achm"
      },
      "outputs": [],
      "source": [
        "print(Add(2,2))"
      ]
    },
    {
      "cell_type": "markdown",
      "metadata": {
        "id": "YXiZzXS0achn"
      },
      "source": [
        "# Job 11"
      ]
    },
    {
      "cell_type": "code",
      "execution_count": null,
      "metadata": {
        "id": "76iYlvABacho",
        "outputId": "4c464d45-4334-4208-acad-025984cdd8ee"
      },
      "outputs": [
        {
          "name": "stdout",
          "output_type": "stream",
          "text": [
            "Hello omar\n"
          ]
        }
      ],
      "source": [
        "nom = input()\n",
        "print('Hello', nom)"
      ]
    },
    {
      "cell_type": "markdown",
      "metadata": {
        "id": "2_UjclgMachq"
      },
      "source": [
        "# Job 13"
      ]
    },
    {
      "cell_type": "code",
      "execution_count": null,
      "metadata": {
        "id": "djneoXBvachs",
        "outputId": "517b166a-5392-4464-e13d-82559d73ca6d"
      },
      "outputs": [
        {
          "name": "stdout",
          "output_type": "stream",
          "text": [
            "[3, 12, 15, 39, 84]\n"
          ]
        }
      ],
      "source": [
        "liste = []\n",
        "for i in range(5):\n",
        "    number = int(input())\n",
        "    liste.append(number)\n",
        "print(sorted(liste))"
      ]
    },
    {
      "cell_type": "markdown",
      "metadata": {
        "id": "5xeGxbsuachx"
      },
      "source": [
        "# Job 17"
      ]
    },
    {
      "cell_type": "code",
      "execution_count": null,
      "metadata": {
        "id": "gEEstebmachz",
        "outputId": "0fc94f89-7509-4d79-a30f-13c68c358e04",
        "colab": {
          "base_uri": "https://localhost:8080/"
        }
      },
      "outputs": [
        {
          "output_type": "stream",
          "name": "stdout",
          "text": [
            "1\n",
            "2\n",
            "Fizz\n",
            "4\n",
            "Buzz\n",
            "Fizz\n",
            "7\n",
            "8\n",
            "Fizz\n",
            "Buzz\n",
            "11\n",
            "Fizz\n",
            "13\n",
            "14\n",
            "FizzBuzz\n",
            "16\n",
            "17\n",
            "Fizz\n",
            "19\n",
            "Buzz\n",
            "Fizz\n",
            "22\n",
            "23\n",
            "Fizz\n",
            "Buzz\n",
            "26\n",
            "Fizz\n",
            "28\n",
            "29\n",
            "FizzBuzz\n",
            "31\n",
            "32\n",
            "Fizz\n",
            "34\n",
            "Buzz\n",
            "Fizz\n",
            "37\n",
            "38\n",
            "Fizz\n",
            "Buzz\n",
            "41\n",
            "Fizz\n",
            "43\n",
            "44\n",
            "FizzBuzz\n",
            "46\n",
            "47\n",
            "Fizz\n",
            "49\n",
            "Buzz\n",
            "Fizz\n",
            "52\n",
            "53\n",
            "Fizz\n",
            "Buzz\n",
            "56\n",
            "Fizz\n",
            "58\n",
            "59\n",
            "FizzBuzz\n",
            "61\n",
            "62\n",
            "Fizz\n",
            "64\n",
            "Buzz\n",
            "Fizz\n",
            "67\n",
            "68\n",
            "Fizz\n",
            "Buzz\n",
            "71\n",
            "Fizz\n",
            "73\n",
            "74\n",
            "FizzBuzz\n",
            "76\n",
            "77\n",
            "Fizz\n",
            "79\n",
            "Buzz\n",
            "Fizz\n",
            "82\n",
            "83\n",
            "Fizz\n",
            "Buzz\n",
            "86\n",
            "Fizz\n",
            "88\n",
            "89\n",
            "FizzBuzz\n",
            "91\n",
            "92\n",
            "Fizz\n",
            "94\n",
            "Buzz\n",
            "Fizz\n",
            "97\n",
            "98\n",
            "Fizz\n",
            "Buzz\n"
          ]
        }
      ],
      "source": [
        "for i in range(1,101):\n",
        "    if i%3==0 and i%5==0:\n",
        "        print('FizzBuzz')\n",
        "    elif i%5==0:\n",
        "        print('Buzz')\n",
        "    elif i%3==0:\n",
        "        print('Fizz')\n",
        "    else:\n",
        "        print(i)\n",
        "    "
      ]
    },
    {
      "cell_type": "markdown",
      "metadata": {
        "id": "5RMpXzKxach2"
      },
      "source": [
        "# Job 19"
      ]
    },
    {
      "cell_type": "code",
      "execution_count": null,
      "metadata": {
        "id": "pF9Mye3fach3"
      },
      "outputs": [],
      "source": [
        "def draw_rectangle(width, height):\n",
        "  for i in range(height):\n",
        "    if i==0 or i==height-1:\n",
        "      print('|',(width-2)*'-','|')\n",
        "    else: \n",
        "      print('|',(width-2)*' ','|')"
      ]
    },
    {
      "cell_type": "code",
      "execution_count": null,
      "metadata": {
        "id": "nU-IY9B5ach5",
        "outputId": "f5a94f47-e473-4295-95a9-bbdfca527ef2"
      },
      "outputs": [
        {
          "name": "stdout",
          "output_type": "stream",
          "text": [
            "| -------- |\n",
            "|          |\n",
            "| -------- |\n"
          ]
        }
      ],
      "source": [
        "draw_rectangle(10, 3)"
      ]
    },
    {
      "cell_type": "markdown",
      "metadata": {
        "id": "ScG5-6hJach6"
      },
      "source": [
        "# Job 23"
      ]
    },
    {
      "cell_type": "code",
      "execution_count": null,
      "metadata": {
        "id": "VQZGNu2Each7"
      },
      "outputs": [],
      "source": [
        "def draw_triangle(height):\n",
        "  for i in range(height):\n",
        "    if i == height-1:\n",
        "      print((height-i)*' '+\"/\"+2*i*\"_\" + \"\\\\\")\n",
        "    else :\n",
        "      print((height-i)*' '+\"/\" + 2*i*\" \" + \"\\\\\")"
      ]
    },
    {
      "cell_type": "code",
      "execution_count": null,
      "metadata": {
        "colab": {
          "base_uri": "https://localhost:8080/"
        },
        "id": "xNb28jmwach8",
        "outputId": "48c5ad58-bf30-431d-c9af-08ce2c6106d2"
      },
      "outputs": [
        {
          "output_type": "stream",
          "name": "stdout",
          "text": [
            "    /\\\n",
            "   /  \\\n",
            "  /    \\\n",
            " /______\\\n"
          ]
        }
      ],
      "source": [
        "draw_triangle(4)"
      ]
    },
    {
      "cell_type": "markdown",
      "metadata": {
        "id": "oRH9Bb4Vach8"
      },
      "source": [
        "# Job 29"
      ]
    },
    {
      "cell_type": "code",
      "execution_count": null,
      "metadata": {
        "id": "a1A57-_dach9",
        "outputId": "f1def996-60c9-49e8-fdac-e4de8daea464"
      },
      "outputs": [
        {
          "name": "stdout",
          "output_type": "stream",
          "text": [
            "[12, 15, 17, 20]\n"
          ]
        }
      ],
      "source": [
        "notes = input()\n",
        "notes = notes.split()\n",
        "\n",
        "liste = []\n",
        "\n",
        "for note in notes:\n",
        "    if int(note)>=0 and int(note)<=100:\n",
        "        if int(note) % 5 == 3:\n",
        "            liste.append(int(note)+2)\n",
        "        elif int(note) % 5 == 4:\n",
        "            liste.append(int(note)+1)\n",
        "        else :\n",
        "            liste.append(int(note))\n",
        "print(liste)"
      ]
    },
    {
      "cell_type": "code",
      "execution_count": null,
      "metadata": {
        "id": "CC-IrXcHach_"
      },
      "outputs": [],
      "source": [
        "def Luke_notes(liste_notes):\n",
        "  liste = []\n",
        "  for note in liste_notes:\n",
        "    if note>=0 and note<=100:\n",
        "      if note % 5 == 3:\n",
        "        liste.append(note + 2)\n",
        "      elif note % 5 == 4:\n",
        "        liste.append(note + 1)\n",
        "      else : \n",
        "        liste.append(note)\n",
        "  return (liste)"
      ]
    },
    {
      "cell_type": "code",
      "execution_count": null,
      "metadata": {
        "id": "WxyUeeBCaciA",
        "outputId": "25822167-6e4d-4fbf-e027-9d954c511f16"
      },
      "outputs": [
        {
          "data": {
            "text/plain": [
              "[12, 15, 20, 17]"
            ]
          },
          "execution_count": 15,
          "metadata": {},
          "output_type": "execute_result"
        }
      ],
      "source": [
        "Luke_notes([12, 14, 18, 17,102])"
      ]
    },
    {
      "cell_type": "markdown",
      "metadata": {
        "id": "sZjjYsEbaciB"
      },
      "source": [
        "# Job 31"
      ]
    },
    {
      "cell_type": "code",
      "execution_count": null,
      "metadata": {
        "colab": {
          "base_uri": "https://localhost:8080/"
        },
        "id": "FcbYsajOaciD",
        "outputId": "825bce91-f7c2-4571-fd2a-9ab6c60b6523"
      },
      "outputs": [
        {
          "output_type": "stream",
          "name": "stdout",
          "text": [
            "abcde\n",
            "abced\n"
          ]
        }
      ],
      "source": [
        "from itertools import permutations\n",
        "import re\n",
        "\n",
        "string = input()\n",
        "pattern = re.compile(\"[a-z]+\")\n",
        "\n",
        "if pattern.fullmatch(string) is not None:\n",
        "    perms = [''.join(p) for p in permutations(string)]\n",
        "    print(perms[1])\n",
        "else:\n",
        "    print(\"Le mot que vous avez utilisé n'est pas valide !\")"
      ]
    }
  ],
  "metadata": {
    "kernelspec": {
      "display_name": "Python 3.8.10 ('machinelearning': venv)",
      "language": "python",
      "name": "python3"
    },
    "language_info": {
      "codemirror_mode": {
        "name": "ipython",
        "version": 3
      },
      "file_extension": ".py",
      "mimetype": "text/x-python",
      "name": "python",
      "nbconvert_exporter": "python",
      "pygments_lexer": "ipython3",
      "version": "3.8.10"
    },
    "orig_nbformat": 4,
    "vscode": {
      "interpreter": {
        "hash": "522a2c7acfbe1b9be18f5789dd4343da955a3b452fdf81f30a9c3a3806256b3d"
      }
    },
    "colab": {
      "provenance": [],
      "collapsed_sections": []
    }
  },
  "nbformat": 4,
  "nbformat_minor": 0
}