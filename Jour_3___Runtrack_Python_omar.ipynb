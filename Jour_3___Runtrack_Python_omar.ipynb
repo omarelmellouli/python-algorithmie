{
  "nbformat": 4,
  "nbformat_minor": 0,
  "metadata": {
    "colab": {
      "provenance": [],
      "collapsed_sections": []
    },
    "kernelspec": {
      "name": "python3",
      "display_name": "Python 3"
    },
    "language_info": {
      "name": "python"
    }
  },
  "cells": [
    {
      "cell_type": "markdown",
      "source": [
        "# Job 0"
      ],
      "metadata": {
        "id": "VcUnvyi-Yx_7"
      }
    },
    {
      "cell_type": "code",
      "execution_count": null,
      "metadata": {
        "colab": {
          "base_uri": "https://localhost:8080/"
        },
        "id": "EK1gRHWjYEJJ",
        "outputId": "56535d48-8d8f-49e3-a56c-125732fd25bd"
      },
      "outputs": [
        {
          "name": "stdout",
          "output_type": "stream",
          "text": [
            "Entrer une chaine de caractère : hello\n"
          ]
        }
      ],
      "source": [
        "chaine_de_caractere = input(\"Entrer une chaine de caractère : \")\n",
        "outfile = open(\"output.txt\", \"w\")\n",
        "outfile.write(chaine_de_caractere)\n",
        "outfile.close() "
      ]
    },
    {
      "cell_type": "markdown",
      "source": [
        "# Job 0.1"
      ],
      "metadata": {
        "id": "ls-hgI7gZuLu"
      }
    },
    {
      "cell_type": "code",
      "source": [
        "fichier = open(\"/content/output.txt\", \"r\")\n",
        "print(fichier.read())\n",
        "fichier.close()"
      ],
      "metadata": {
        "colab": {
          "base_uri": "https://localhost:8080/"
        },
        "id": "fXCLt2lXZ1Mt",
        "outputId": "b2327e11-03a6-4d89-b3f2-07dd93e0e846"
      },
      "execution_count": null,
      "outputs": [
        {
          "output_type": "stream",
          "name": "stdout",
          "text": [
            "hello\n"
          ]
        }
      ]
    },
    {
      "cell_type": "markdown",
      "source": [
        "# Job 01"
      ],
      "metadata": {
        "id": "-EN7cYOlaiSr"
      }
    },
    {
      "cell_type": "code",
      "source": [
        "import re\n",
        "from collections import Counter\n",
        "\n",
        "fichier = open(\"/content/domains.xml\", \"r\")\n",
        "data = fichier.read()\n",
        "fichier.close()\n",
        "extensions = re.findall(r'\\.[a-z]{2,3}[^a-zA-Z]', data)    \n",
        "extensions = [extension[1:-1] for extension in extensions]\n",
        "extensions = dict(Counter(extensions))\n",
        "extensions['ru'] = 1 #<column name=\"domain\">0815.ru0clickemail.com</column> ne doit pas etre compté\n",
        "extensions = dict(sorted(extensions.items(), key=lambda item: item[1]))\n",
        "extensions"
      ],
      "metadata": {
        "colab": {
          "base_uri": "https://localhost:8080/"
        },
        "id": "nw1Md7xSZ_KT",
        "outputId": "e85abfb2-14c5-489a-a16b-195e7adb6fe2"
      },
      "execution_count": null,
      "outputs": [
        {
          "output_type": "execute_result",
          "data": {
            "text/plain": [
              "{'ru': 1,\n",
              " 'ht': 1,\n",
              " 'tk': 1,\n",
              " 'by': 1,\n",
              " 'lv': 1,\n",
              " 'cc': 1,\n",
              " 'zik': 1,\n",
              " 'nu': 1,\n",
              " 'web': 1,\n",
              " 'ws': 1,\n",
              " 'xl': 1,\n",
              " 'ze': 1,\n",
              " 'la': 1,\n",
              " 'it': 2,\n",
              " 'in': 3,\n",
              " 'biz': 3,\n",
              " 'at': 3,\n",
              " 'me': 3,\n",
              " 'us': 4,\n",
              " 'co': 5,\n",
              " 'eu': 5,\n",
              " 'fr': 9,\n",
              " 'org': 15,\n",
              " 'de': 17,\n",
              " 'net': 39,\n",
              " 'com': 175}"
            ]
          },
          "metadata": {},
          "execution_count": 99
        }
      ]
    },
    {
      "cell_type": "markdown",
      "source": [
        "# Job 01"
      ],
      "metadata": {
        "id": "bbJfUzZReaRi"
      }
    },
    {
      "cell_type": "code",
      "source": [
        "import re\n",
        "fichier = open(\"/content/data.txt\", \"r\")\n",
        "data = fichier.read()\n",
        "fichier.close()\n",
        "liste_mots = re.findall('(\\w+)',data)\n",
        "nombre_mots = len(liste_mots) \n",
        "print(\"Le fichier data.txt contient {} mots\".format(nombre_mots))"
      ],
      "metadata": {
        "colab": {
          "base_uri": "https://localhost:8080/"
        },
        "id": "-O9yh1L2HMAm",
        "outputId": "0855eaff-8c42-4145-e692-af59d1555c25"
      },
      "execution_count": null,
      "outputs": [
        {
          "output_type": "stream",
          "name": "stdout",
          "text": [
            "Le fichier data.txt contient 1175248 mots\n"
          ]
        }
      ]
    },
    {
      "cell_type": "code",
      "source": [
        "fichier = open(\"/content/data.txt\", \"r\")\n",
        "data = fichier.read()\n",
        "fichier.close()\n",
        "stop_words = [',','!','?',';','.',':','\\n','+','*','§'] \n",
        "\n",
        "for stop_word in stop_words:\n",
        "  data = data.replace(stop_word, '')\n",
        "\n",
        "liste_mots = data.split()\n",
        "nombre_mots = len(liste_mots) \n",
        "\n",
        "print(\"Le fichier data.txt contient {} mots\".format(nombre_mots))"
      ],
      "metadata": {
        "colab": {
          "base_uri": "https://localhost:8080/"
        },
        "id": "B_2VvHzNUTx5",
        "outputId": "536b80cf-b7cf-4ffc-adea-e1f1f593f6a1"
      },
      "execution_count": null,
      "outputs": [
        {
          "output_type": "stream",
          "name": "stdout",
          "text": [
            "Le fichier data.txt contient 1173271 mots\n"
          ]
        }
      ]
    },
    {
      "cell_type": "markdown",
      "source": [
        "# Job 02"
      ],
      "metadata": {
        "id": "KhKWYLrv8MLl"
      }
    },
    {
      "cell_type": "code",
      "source": [
        "%%time\n",
        "taille_mot = int(input())\n",
        "\n",
        "fichier = open(\"/content/data.txt\", \"r\")\n",
        "data = fichier.read()\n",
        "fichier.close()\n",
        "\n",
        "stop_words = [',','!','?',';','.',':','\\n','+','*','§'] \n",
        "\n",
        "for stop_word in stop_words:\n",
        "  data = data.replace(stop_word, '')\n",
        "\n",
        "liste_mots = data.split()\n",
        "\n",
        "compteur = 0\n",
        "mots_taille = [] \n",
        "for mot in liste_mots:\n",
        "  if len(mot) == taille_mot:\n",
        "    mots_taille.append(mot)\n",
        "    compteur += 1\n",
        "\n",
        "print(\"le nombre de mot de taille {} dans le fichier data est : {}\".format(taille_mot, compteur))\n",
        "print(\"exemple de mots :\",mots_taille[:6],\"\\n\\n\")"
      ],
      "metadata": {
        "colab": {
          "base_uri": "https://localhost:8080/"
        },
        "id": "z6sEeTwI7Jo-",
        "outputId": "92a5adba-7326-4af2-8af5-d72a5a2514ff"
      },
      "execution_count": null,
      "outputs": [
        {
          "output_type": "stream",
          "name": "stdout",
          "text": [
            "5\n",
            "le nombre de mot de taille 5 dans le fichier data est : 166229\n",
            "exemple de mots : ['Lorem', 'ipsum', 'dolor', 'cupio', 'scire', 'etiam'] \n",
            "\n",
            "\n",
            "CPU times: user 441 ms, sys: 52.4 ms, total: 494 ms\n",
            "Wall time: 2.68 s\n"
          ]
        }
      ]
    },
    {
      "cell_type": "markdown",
      "source": [
        "# Job 03"
      ],
      "metadata": {
        "id": "SBSX_yJXXGhn"
      }
    },
    {
      "cell_type": "code",
      "source": [
        "from collections import Counter\n",
        "fichier = open(\"/content/data.txt\", \"r\")\n",
        "data = fichier.read()\n",
        "fichier.close()\n",
        "\n",
        "stop_words = [',','!','?',';','.',':','-','/',' ','\\n','+',')','*','§'] \n",
        "\n",
        "for stop_word in stop_words:\n",
        "  data = data.replace(stop_word, '')\n",
        "\n",
        "data = data.lower()\n",
        "lettres = list(data)\n",
        "\n",
        "occurence = dict(Counter(lettres))\n",
        "\n",
        "occurence"
      ],
      "metadata": {
        "colab": {
          "base_uri": "https://localhost:8080/"
        },
        "id": "6w1344TCqlSz",
        "outputId": "93dcbb13-8ea2-4360-8f25-47278c2043e8"
      },
      "execution_count": null,
      "outputs": [
        {
          "output_type": "execute_result",
          "data": {
            "text/plain": [
              "{'l': 181896,\n",
              " 'o': 356710,\n",
              " 'r': 353705,\n",
              " 'e': 767401,\n",
              " 'm': 381248,\n",
              " 'i': 737028,\n",
              " 'p': 175750,\n",
              " 's': 481735,\n",
              " 'u': 544936,\n",
              " 'd': 220641,\n",
              " 't': 554469,\n",
              " 'a': 528297,\n",
              " 'c': 206494,\n",
              " 'n': 414611,\n",
              " 'g': 52933,\n",
              " 'q': 145419,\n",
              " 'b': 79685,\n",
              " 'h': 53718,\n",
              " 'f': 50103,\n",
              " 'v': 91115,\n",
              " 'x': 20578,\n",
              " 'í': 655,\n",
              " 'y': 2880,\n",
              " 'z': 1005,\n",
              " 'k': 475,\n",
              " 'ò': 172,\n",
              " 'w': 238,\n",
              " 'ë': 137,\n",
              " 'ñ': 88,\n",
              " 'j': 76,\n",
              " 'ì': 33,\n",
              " 'é': 124,\n",
              " 'ú': 62,\n",
              " 'á': 96}"
            ]
          },
          "metadata": {},
          "execution_count": 10
        }
      ]
    },
    {
      "cell_type": "code",
      "source": [
        "import matplotlib.pyplot as plt\n",
        "\n",
        "plt.figure(figsize=(14,7)) \n",
        "\n",
        "somme_values = sum(occurence.values())\n",
        "for key in occurence.keys():\n",
        "  occurence[key] = round((occurence[key]*100)/somme_values,4)\n",
        "\n",
        "plt.bar(occurence.keys(), occurence.values(), color='b')\n"
      ],
      "metadata": {
        "colab": {
          "base_uri": "https://localhost:8080/",
          "height": 445
        },
        "id": "WllA7Gm-fgyX",
        "outputId": "09c3f535-de2d-4e3e-f6a0-081e212e6838"
      },
      "execution_count": null,
      "outputs": [
        {
          "output_type": "execute_result",
          "data": {
            "text/plain": [
              "<BarContainer object of 34 artists>"
            ]
          },
          "metadata": {},
          "execution_count": 11
        },
        {
          "output_type": "display_data",
          "data": {
            "text/plain": [
              "<Figure size 1008x504 with 1 Axes>"
            ],
            "image/png": "[encoded data removed]"
          },
          "metadata": {
            "needs_background": "light"
          }
        }
      ]
    },
    {
      "cell_type": "markdown",
      "source": [
        "# Job 05"
      ],
      "metadata": {
        "id": "dvonMkbTlbJT"
      }
    },
    {
      "cell_type": "code",
      "source": [
        "fichier = open(\"/content/data.txt\", \"r\")\n",
        "data = fichier.read()\n",
        "fichier.close()\n",
        "\n",
        "stop_words = [',','!','?',';','.',':','\\n','+','/',')','*','§'] \n",
        "\n",
        "for stop_word in stop_words:\n",
        "  data = data.replace(stop_word, '')\n",
        "\n",
        "data = data.lower() \n",
        "liste_mots = data.split()\n",
        "\n",
        "nmbre_mot_taille = {}\n",
        "\n",
        "for mot in liste_mots:\n",
        "    nmbre_mot_taille.setdefault(len(mot), []).append(mot)\n",
        "for key in nmbre_mot_taille.keys():\n",
        "  nmbre_mot_taille[key] = len(nmbre_mot_taille[key])\n",
        "\n",
        "#nmbre_mot_taiile\n",
        "\n",
        "nmbre_mot_taille = dict(sorted(nmbre_mot_taille.items(),key=lambda x:x[0],reverse=False))\n",
        "nmbre_mot_taille"
      ],
      "metadata": {
        "colab": {
          "base_uri": "https://localhost:8080/"
        },
        "id": "o28O6QRnoCJD",
        "outputId": "97bd79d3-8c02-458f-afe4-f173fdf8bc31"
      },
      "execution_count": null,
      "outputs": [
        {
          "output_type": "execute_result",
          "data": {
            "text/plain": [
              "{1: 11344,\n",
              " 2: 139410,\n",
              " 3: 159990,\n",
              " 4: 179683,\n",
              " 5: 166249,\n",
              " 6: 148830,\n",
              " 7: 110799,\n",
              " 8: 90692,\n",
              " 9: 66273,\n",
              " 10: 51981,\n",
              " 11: 21568,\n",
              " 12: 13522,\n",
              " 13: 7722,\n",
              " 14: 2605,\n",
              " 15: 1630,\n",
              " 16: 444,\n",
              " 17: 260,\n",
              " 18: 269}"
            ]
          },
          "metadata": {},
          "execution_count": 12
        }
      ]
    },
    {
      "cell_type": "code",
      "source": [
        "import matplotlib.pyplot as plt\n",
        "\n",
        "plt.figure(figsize=(14,7)) \n",
        "\n",
        "somme_values = sum(nmbre_mot_taille.values())\n",
        "for key in nmbre_mot_taille.keys():\n",
        "  nmbre_mot_taille[key] = (nmbre_mot_taille[key]*100)/somme_values\n",
        "\n",
        "plt.bar(nmbre_mot_taille.keys(), nmbre_mot_taille.values(), color='b')"
      ],
      "metadata": {
        "colab": {
          "base_uri": "https://localhost:8080/",
          "height": 448
        },
        "id": "z3qe6FZSO46h",
        "outputId": "292b506f-69b7-4fd1-eff1-239776060e47"
      },
      "execution_count": null,
      "outputs": [
        {
          "output_type": "execute_result",
          "data": {
            "text/plain": [
              "<BarContainer object of 18 artists>"
            ]
          },
          "metadata": {},
          "execution_count": 13
        },
        {
          "output_type": "display_data",
          "data": {
            "text/plain": [
              "<Figure size 1008x504 with 1 Axes>"
            ],
            "image/png": "[encoded data removed]"
          },
          "metadata": {
            "needs_background": "light"
          }
        }
      ]
    },
    {
      "cell_type": "markdown",
      "source": [
        "# Job 08\n"
      ],
      "metadata": {
        "id": "uiEak6s7qtDo"
      }
    },
    {
      "cell_type": "code",
      "source": [
        "from collections import Counter\n",
        "\n",
        "fichier = open(\"/content/data.txt\", \"r\")\n",
        "data = fichier.read()\n",
        "fichier.close()\n",
        "\n",
        "stop_words = [',','!','?',';','.',':','\\n','-','+','/',')','*','§'] \n",
        "\n",
        "for stop_word in stop_words:\n",
        "  data = data.replace(stop_word, '')\n",
        "\n",
        "data = data.lower()\n",
        "\n",
        "liste_mots = data.split()\n",
        "\n",
        "liste_lettres = []\n",
        "for mot in liste_mots:\n",
        "    liste_lettres.append(mot[0])\n",
        "\n",
        "\n",
        "occurence = dict(Counter(liste_lettres))\n",
        "occurence"
      ],
      "metadata": {
        "colab": {
          "base_uri": "https://localhost:8080/"
        },
        "id": "vuEEdj1jlcVB",
        "outputId": "b3f3f3de-ef60-4c76-ccaa-ff8468f6c2c1"
      },
      "execution_count": null,
      "outputs": [
        {
          "output_type": "execute_result",
          "data": {
            "text/plain": [
              "{'l': 20339,\n",
              " 'i': 112828,\n",
              " 'd': 63253,\n",
              " 's': 105867,\n",
              " 'a': 102892,\n",
              " 'c': 60776,\n",
              " 'e': 135618,\n",
              " 'q': 94830,\n",
              " 't': 39441,\n",
              " 'n': 81205,\n",
              " 'm': 44437,\n",
              " 'h': 30245,\n",
              " 'u': 25932,\n",
              " 'p': 79835,\n",
              " 'r': 30153,\n",
              " 'v': 65986,\n",
              " 'f': 25261,\n",
              " 'b': 16162,\n",
              " 'g': 8290,\n",
              " 'o': 28166,\n",
              " 'z': 1005,\n",
              " 'í': 50,\n",
              " 'k': 165,\n",
              " 'x': 251,\n",
              " 'á': 48}"
            ]
          },
          "metadata": {},
          "execution_count": 14
        }
      ]
    },
    {
      "cell_type": "code",
      "source": [
        "import matplotlib.pyplot as plt\n",
        "\n",
        "plt.figure(figsize=(14,7)) \n",
        "\n",
        "somme = sum(occurence.values())\n",
        "\n",
        "for key in occurence.keys():\n",
        "  occurence[key] = occurence[key]*100/somme\n",
        "\n",
        "plt.bar(occurence.keys(), occurence.values(), color='b')"
      ],
      "metadata": {
        "id": "ns2St2T1oCTM",
        "colab": {
          "base_uri": "https://localhost:8080/",
          "height": 445
        },
        "outputId": "f8444c7b-57bc-4f31-9cdd-3399c08bbe22"
      },
      "execution_count": null,
      "outputs": [
        {
          "output_type": "execute_result",
          "data": {
            "text/plain": [
              "<BarContainer object of 25 artists>"
            ]
          },
          "metadata": {},
          "execution_count": 15
        },
        {
          "output_type": "display_data",
          "data": {
            "text/plain": [
              "<Figure size 1008x504 with 1 Axes>"
            ],
            "image/png": "[encoded data removed]"
          },
          "metadata": {
            "needs_background": "light"
          }
        }
      ]
    },
    {
      "cell_type": "markdown",
      "source": [
        "# Job 13"
      ],
      "metadata": {
        "id": "avQXxEP8nF3L"
      }
    },
    {
      "cell_type": "code",
      "source": [
        "from collections import Counter\n",
        "from collections import defaultdict\n",
        "import numpy as np\n",
        "  \n",
        "fichier = open(\"/content/data.txt\", \"r\")\n",
        "data = fichier.read()\n",
        "fichier.close()\n",
        "\n",
        "stop_words = [',','!','?',';','.',':','\\n','-','+','/',')','*','§'] \n",
        "\n",
        "for stop_word in stop_words:\n",
        "  data = data.replace(stop_word, '')\n",
        "\n",
        "data = data.lower()\n",
        "\n",
        "lettres = []\n",
        "for i in range(len(data)):\n",
        "  lettres.append(data[i])\n",
        "\n",
        "def unique(list1):\n",
        "    x = np.array(list1)\n",
        "    return list(np.unique(x))\n",
        "\n",
        "data_dict = defaultdict(list)\n",
        "\n",
        "for lettre in unique(lettres):\n",
        "  for i in range(len(lettres)-1):\n",
        "    if lettre == lettres[i]:\n",
        "      data_dict[lettre].append(lettres[i+1])"
      ],
      "metadata": {
        "id": "u4o9zmVmzPZI"
      },
      "execution_count": null,
      "outputs": []
    },
    {
      "cell_type": "code",
      "source": [
        "data_dict.keys()"
      ],
      "metadata": {
        "colab": {
          "base_uri": "https://localhost:8080/"
        },
        "id": "NFcqnf_WdDdE",
        "outputId": "97310197-ac46-41dd-a66c-9035e459da29"
      },
      "execution_count": null,
      "outputs": [
        {
          "output_type": "execute_result",
          "data": {
            "text/plain": [
              "dict_keys([' ', 'a', 'b', 'c', 'd', 'e', 'f', 'g', 'h', 'i', 'j', 'k', 'l', 'm', 'n', 'o', 'p', 'q', 'r', 's', 't', 'u', 'v', 'w', 'x', 'y', 'z', 'á', 'é', 'ë', 'ì', 'í', 'ñ', 'ò', 'ú'])"
            ]
          },
          "metadata": {},
          "execution_count": 17
        }
      ]
    },
    {
      "cell_type": "code",
      "source": [
        "liste = []\n",
        "unique_lettres = unique(lettres)[1:]\n",
        "for lettre in unique_lettres:\n",
        "  liste.append(dict(Counter(data_dict[lettre])))"
      ],
      "metadata": {
        "id": "WxKLzNQzab-9"
      },
      "execution_count": null,
      "outputs": []
    },
    {
      "cell_type": "code",
      "source": [
        "for i in range(len(liste)):\n",
        "  liste[i].pop(' ', None)"
      ],
      "metadata": {
        "id": "EA0GGUmIcJkx"
      },
      "execution_count": null,
      "outputs": []
    },
    {
      "cell_type": "code",
      "source": [
        "plt.figure(figsize=(14,7)) \n",
        "\n",
        "somme = sum(liste[0].values())\n",
        "dict_a = liste[0]\n",
        "for key in dict_a.keys():\n",
        "  dict_a[key]  = round(dict_a[key]*100/somme,4)\n",
        "plt.bar(dict_a.keys(), dict_a.values(), color='b')\n",
        "plt.title('a')"
      ],
      "metadata": {
        "colab": {
          "base_uri": "https://localhost:8080/",
          "height": 461
        },
        "id": "vRZ-Wlv-2l4B",
        "outputId": "92ca49c3-5828-4462-a0b2-e225b4ab2325"
      },
      "execution_count": null,
      "outputs": [
        {
          "output_type": "execute_result",
          "data": {
            "text/plain": [
              "Text(0.5, 1.0, 'a')"
            ]
          },
          "metadata": {},
          "execution_count": 20
        },
        {
          "output_type": "display_data",
          "data": {
            "text/plain": [
              "<Figure size 1008x504 with 1 Axes>"
            ],
            "image/png": "[encoded data removed]"
          },
          "metadata": {
            "needs_background": "light"
          }
        }
      ]
    },
    {
      "cell_type": "code",
      "source": [
        "dict_a"
      ],
      "metadata": {
        "colab": {
          "base_uri": "https://localhost:8080/"
        },
        "id": "1K5JKOrOl5Xs",
        "outputId": "a0efaa4b-074e-42a3-b3be-7b3a25e8e024"
      },
      "execution_count": null,
      "outputs": [
        {
          "output_type": "execute_result",
          "data": {
            "text/plain": [
              "{'m': 17.7728,\n",
              " 'd': 4.7274,\n",
              " 's': 4.9827,\n",
              " 'b': 3.7244,\n",
              " 't': 19.7808,\n",
              " 'e': 11.1735,\n",
              " 'u': 5.2378,\n",
              " 'n': 8.9213,\n",
              " 'p': 2.2693,\n",
              " 'r': 7.7818,\n",
              " 'l': 4.5893,\n",
              " 'c': 3.6826,\n",
              " 'g': 1.6908,\n",
              " 'x': 0.6121,\n",
              " 'q': 0.7141,\n",
              " 'i': 0.5867,\n",
              " 'v': 1.2298,\n",
              " 'f': 0.4546,\n",
              " 'k': 0.0357,\n",
              " 'w': 0.0101,\n",
              " 'h': 0.0081,\n",
              " 'é': 0.0143}"
            ]
          },
          "metadata": {},
          "execution_count": 21
        }
      ]
    },
    {
      "cell_type": "code",
      "source": [
        "plt.figure(figsize=(14,7)) \n",
        "\n",
        "somme = sum(liste[11].values())\n",
        "dict_l = liste[11]\n",
        "for key in dict_l.keys():\n",
        "  dict_l[key]  = round(dict_l[key]*100/somme,4)\n",
        "plt.bar(dict_l.keys(), dict_l.values(), color='b')\n",
        "plt.title('l')"
      ],
      "metadata": {
        "colab": {
          "base_uri": "https://localhost:8080/",
          "height": 461
        },
        "id": "4pHUqGQr37TR",
        "outputId": "169dd556-0090-4ad1-b3a5-6fa080700a70"
      },
      "execution_count": null,
      "outputs": [
        {
          "output_type": "execute_result",
          "data": {
            "text/plain": [
              "Text(0.5, 1.0, 'l')"
            ]
          },
          "metadata": {},
          "execution_count": 22
        },
        {
          "output_type": "display_data",
          "data": {
            "text/plain": [
              "<Figure size 1008x504 with 1 Axes>"
            ],
            "image/png": "[encoded data removed]"
          },
          "metadata": {
            "needs_background": "light"
          }
        }
      ]
    },
    {
      "cell_type": "code",
      "source": [
        "dict_l"
      ],
      "metadata": {
        "colab": {
          "base_uri": "https://localhost:8080/"
        },
        "id": "HN0LLmjwZTCf",
        "outputId": "0765d674-cb58-4011-ee8e-82ba3e43f5fb"
      },
      "execution_count": null,
      "outputs": [
        {
          "output_type": "execute_result",
          "data": {
            "text/plain": [
              "{'o': 10.3017,\n",
              " 'i': 22.4397,\n",
              " 'l': 16.6881,\n",
              " 'e': 15.6931,\n",
              " 'a': 13.2831,\n",
              " 't': 4.0552,\n",
              " 'u': 15.7322,\n",
              " 'c': 0.4891,\n",
              " 's': 0.3775,\n",
              " 'v': 0.3119,\n",
              " 'n': 0.145,\n",
              " 'x': 0.0737,\n",
              " 'g': 0.0334,\n",
              " 'y': 0.0875,\n",
              " 'í': 0.0673,\n",
              " 'd': 0.1416,\n",
              " 'b': 0.0691,\n",
              " 'm': 0.0109}"
            ]
          },
          "metadata": {},
          "execution_count": 23
        }
      ]
    },
    {
      "cell_type": "markdown",
      "source": [
        "# Job 21"
      ],
      "metadata": {
        "id": "O1HI8i6fpHDx"
      }
    },
    {
      "cell_type": "code",
      "source": [
        "def generateur_mots():\n",
        "  mot = ''\n",
        "\n",
        "  taille_mot = np.random.choice(list(nmbre_mot_taille), p=[x/100 for x in list(nmbre_mot_taille.values())])\n",
        "  premiere_lettre_mot = np.random.choice(list(occurence), p=[x/100 for x in list(occurence.values())])\n",
        "  mot+= premiere_lettre_mot\n",
        "  while len(mot) != taille_mot:\n",
        "    index = unique_lettres.index(mot[-1])\n",
        "    somme = sum(liste[index].values())\n",
        "    lettre_suivante = np.random.choice(list(liste[index]), p=[x/somme for x in list(liste[index].values())])\n",
        "    mot += lettre_suivante\n",
        "  print('==========================================')\n",
        "  print('taille : ', taille_mot, '\\npremiere_lettre :',premiere_lettre_mot,'\\nmot :', mot)\n",
        "  print('==========================================\\n\\n')"
      ],
      "metadata": {
        "id": "YjTbIFn8s-3p"
      },
      "execution_count": null,
      "outputs": []
    },
    {
      "cell_type": "code",
      "source": [
        "for i in range(5):\n",
        "  generateur_mots()"
      ],
      "metadata": {
        "colab": {
          "base_uri": "https://localhost:8080/"
        },
        "id": "PzfwxSOAD5X3",
        "outputId": "d134d951-aa4d-4445-a85c-79b3d0e54d28"
      },
      "execution_count": null,
      "outputs": [
        {
          "output_type": "stream",
          "name": "stdout",
          "text": [
            "==========================================\n",
            "taille :  5 \n",
            "premiere_lettre : i \n",
            "mot : illec\n",
            "==========================================\n",
            "\n",
            "\n",
            "==========================================\n",
            "taille :  6 \n",
            "premiere_lettre : v \n",
            "mot : vodemn\n",
            "==========================================\n",
            "\n",
            "\n",
            "==========================================\n",
            "taille :  8 \n",
            "premiere_lettre : s \n",
            "mot : selluetu\n",
            "==========================================\n",
            "\n",
            "\n",
            "==========================================\n",
            "taille :  2 \n",
            "premiere_lettre : t \n",
            "mot : ti\n",
            "==========================================\n",
            "\n",
            "\n",
            "==========================================\n",
            "taille :  11 \n",
            "premiere_lettre : a \n",
            "mot : aperatuenta\n",
            "==========================================\n",
            "\n",
            "\n"
          ]
        }
      ]
    },
    {
      "cell_type": "markdown",
      "source": [
        "# Job 34"
      ],
      "metadata": {
        "id": "rgVNdBlY5tes"
      }
    },
    {
      "cell_type": "code",
      "source": [
        "fichier = open(\"/content/data.txt\", \"r\")\n",
        "data = fichier.read()\n",
        "fichier.close()\n",
        "\n",
        "stop_words = [',','!','?',';',':','\\n','+','/',')','*','§'] \n",
        "\n",
        "for stop_word in stop_words:\n",
        "  data = data.replace(stop_word, '')\n",
        "\n",
        "taille_phrases = []\n",
        "phrases = data.split('.')\n",
        "for phrase in phrases:\n",
        "  liste_mot_par_phrase = phrase.split()\n",
        "  taille_phrases.append(len(liste_mot_par_phrase))\n",
        "taille_phrases = dict(Counter(taille_phrases))"
      ],
      "metadata": {
        "id": "yJQ6UQYoFaS5"
      },
      "execution_count": null,
      "outputs": []
    },
    {
      "cell_type": "code",
      "source": [
        "plt.figure(figsize=(14,7)) \n",
        "\n",
        "somme = sum(taille_phrases.values())\n",
        "\n",
        "for key in taille_phrases.keys():\n",
        "  taille_phrases[key] = taille_phrases[key]*100/somme\n",
        "\n",
        "plt.bar(taille_phrases.keys(), taille_phrases.values(), color='b')"
      ],
      "metadata": {
        "colab": {
          "base_uri": "https://localhost:8080/",
          "height": 445
        },
        "id": "FWkIipNlL_pP",
        "outputId": "1741efb3-c188-4aa7-c2da-d364c8c1463f"
      },
      "execution_count": null,
      "outputs": [
        {
          "output_type": "execute_result",
          "data": {
            "text/plain": [
              "<BarContainer object of 108 artists>"
            ]
          },
          "metadata": {},
          "execution_count": 26
        },
        {
          "output_type": "display_data",
          "data": {
            "text/plain": [
              "<Figure size 1008x504 with 1 Axes>"
            ],
            "image/png": "[encoded data removed]"
          },
          "metadata": {
            "needs_background": "light"
          }
        }
      ]
    },
    {
      "cell_type": "code",
      "source": [
        "def generateur_mots2():\n",
        "  mot = ''\n",
        "\n",
        "  taille_mot = np.random.choice(list(nmbre_mot_taille), p=[x/100 for x in list(nmbre_mot_taille.values())])\n",
        "  premiere_lettre_mot = np.random.choice(list(occurence), p=[x/100 for x in list(occurence.values())])\n",
        "  mot+= premiere_lettre_mot\n",
        "  while len(mot) != taille_mot:\n",
        "    index = unique_lettres.index(mot[-1])\n",
        "    somme = sum(liste[index].values())\n",
        "    lettre_suivante = np.random.choice(list(liste[index]), p=[x/somme for x in list(liste[index].values())])\n",
        "    mot += lettre_suivante\n",
        "  return mot"
      ],
      "metadata": {
        "id": "J1kXKo2DOSfo"
      },
      "execution_count": null,
      "outputs": []
    },
    {
      "cell_type": "code",
      "source": [
        "def generateur_phrases():\n",
        "  phrase = ''\n",
        "  taille_phrase = np.random.choice(list(taille_phrases), p=[x/100 for x in list(taille_phrases.values())])\n",
        "  for i in range(taille_phrase):\n",
        "\n",
        "    phrase += generateur_mots2()\n",
        "    phrase += ' '\n",
        "  phrase = phrase[:-1]\n",
        "  phrase += '.'\n",
        "  return phrase"
      ],
      "metadata": {
        "id": "49uDCAuiOX2s"
      },
      "execution_count": null,
      "outputs": []
    },
    {
      "cell_type": "code",
      "source": [
        "for i in range(5):\n",
        "  print(generateur_phrases(),'\\n')"
      ],
      "metadata": {
        "colab": {
          "base_uri": "https://localhost:8080/"
        },
        "id": "uSq6QWgxOuxT",
        "outputId": "1e184f63-4ae1-4190-a9d0-ed8e293b60fb"
      },
      "execution_count": null,
      "outputs": [
        {
          "output_type": "stream",
          "name": "stdout",
          "text": [
            "hita eraetit vomamarim dennusq poaconi mp folimntebi aene voncihosisas. \n",
            "\n",
            "vidisedoss emolu siens murentise tulutilact fuic duaestemnt remorrel ober centamer qutihidinumniute amnsetistumu eluidurum codiq disedole se. \n",
            "\n",
            "ianidi ntamniuiv ditiltam enta are artum at ditre sen qul sa. \n",
            "\n",
            "rbui norssiad atuisi desumolori enden ete ssiam. \n",
            "\n",
            "amonon vineolom ampo isenetiaff van pis nosetap avinto cl aeste titama th imuicu sinidebi efu emive iu cup ideruo eadeci vetum eneiamum. \n",
            "\n"
          ]
        }
      ]
    },
    {
      "cell_type": "markdown",
      "source": [
        "# Job 55\n"
      ],
      "metadata": {
        "id": "2Af8TLquORuq"
      }
    },
    {
      "cell_type": "code",
      "source": [
        "pip install pypokedex"
      ],
      "metadata": {
        "colab": {
          "base_uri": "https://localhost:8080/"
        },
        "id": "kGGQS-jjebNO",
        "outputId": "3ac99fb0-0378-401b-aaf4-7e1628b9ecf1"
      },
      "execution_count": null,
      "outputs": [
        {
          "output_type": "stream",
          "name": "stdout",
          "text": [
            "Looking in indexes: https://pypi.org/simple, https://us-python.pkg.dev/colab-wheels/public/simple/\n",
            "Collecting pypokedex\n",
            "  Downloading pypokedex-1.6.0-py36-none-any.whl (11 kB)\n",
            "Requirement already satisfied: requests<3.0.0,>=2.21.0 in /usr/local/lib/python3.7/dist-packages (from pypokedex) (2.23.0)\n",
            "Requirement already satisfied: chardet<4,>=3.0.2 in /usr/local/lib/python3.7/dist-packages (from requests<3.0.0,>=2.21.0->pypokedex) (3.0.4)\n",
            "Requirement already satisfied: certifi>=2017.4.17 in /usr/local/lib/python3.7/dist-packages (from requests<3.0.0,>=2.21.0->pypokedex) (2022.9.24)\n",
            "Requirement already satisfied: idna<3,>=2.5 in /usr/local/lib/python3.7/dist-packages (from requests<3.0.0,>=2.21.0->pypokedex) (2.10)\n",
            "Requirement already satisfied: urllib3!=1.25.0,!=1.25.1,<1.26,>=1.21.1 in /usr/local/lib/python3.7/dist-packages (from requests<3.0.0,>=2.21.0->pypokedex) (1.24.3)\n",
            "Installing collected packages: pypokedex\n",
            "Successfully installed pypokedex-1.6.0\n"
          ]
        }
      ]
    },
    {
      "cell_type": "code",
      "source": [
        "import pypokedex\n",
        "\n",
        "name_pokemon = []\n",
        "for i in range(1,906):\n",
        "  pokemon = pypokedex.get(dex=i)\n",
        "  name_pokemon.append(pokemon.name)\n",
        "for name in name_pokemon:\n",
        "  if name in liste_mots:\n",
        "    print('le nom du pokemon qui existe dans le fichier data est :',name)\n",
        "    break"
      ],
      "metadata": {
        "colab": {
          "base_uri": "https://localhost:8080/"
        },
        "id": "-mBASGVeekkt",
        "outputId": "14087793-cce7-4399-bae9-ec439d07bee6"
      },
      "execution_count": null,
      "outputs": [
        {
          "output_type": "stream",
          "name": "stdout",
          "text": [
            "le nom du pokemon qui existe dans le fichier data est : psyduck\n"
          ]
        }
      ]
    }
  ]
}