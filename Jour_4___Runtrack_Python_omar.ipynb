{
  "nbformat": 4,
  "nbformat_minor": 0,
  "metadata": {
    "colab": {
      "provenance": [],
      "collapsed_sections": []
    },
    "kernelspec": {
      "name": "python3",
      "display_name": "Python 3"
    },
    "language_info": {
      "name": "python"
    },
    "accelerator": "GPU"
  },
  "cells": [
    {
      "cell_type": "markdown",
      "source": [
        "# Job 0"
      ],
      "metadata": {
        "id": "ufwZm7yQt7tT"
      }
    },
    {
      "cell_type": "code",
      "execution_count": null,
      "metadata": {
        "colab": {
          "base_uri": "https://localhost:8080/"
        },
        "id": "KZSZtqgZt0Yh",
        "outputId": "b1197bf6-3a6f-40ae-e1a0-2164ede658c4"
      },
      "outputs": [
        {
          "name": "stdout",
          "output_type": "stream",
          "text": [
            "6\n"
          ]
        },
        {
          "output_type": "execute_result",
          "data": {
            "text/plain": [
              "720"
            ]
          },
          "metadata": {},
          "execution_count": 18
        }
      ],
      "source": [
        "def factorielle(n):\n",
        "  if n == 0 or n == 1:\n",
        "    return 1\n",
        "  else :\n",
        "    return factorielle(n-1)*n\n",
        "n = int(input())\n",
        "factorielle(n)"
      ]
    },
    {
      "cell_type": "markdown",
      "source": [
        "# Job 0.1"
      ],
      "metadata": {
        "id": "OLHFni4GupKf"
      }
    },
    {
      "cell_type": "code",
      "source": [
        "def puissance(x, n):\n",
        "  if n == 0:\n",
        "    return 1\n",
        "  else :\n",
        "    return x*puissance(x, n-1)\n",
        "\n",
        "x = int(input(\"donner le nombre\"))\n",
        "n = int(input(\"donner l'exposant\"))\n",
        "puissance(x, n)"
      ],
      "metadata": {
        "colab": {
          "base_uri": "https://localhost:8080/"
        },
        "id": "_A_eNED4uqJ2",
        "outputId": "88c33015-fb32-4a5a-e60f-68f804a9f1e0"
      },
      "execution_count": null,
      "outputs": [
        {
          "name": "stdout",
          "output_type": "stream",
          "text": [
            "donner le nombre5\n",
            "donner l'exposant6\n"
          ]
        },
        {
          "output_type": "execute_result",
          "data": {
            "text/plain": [
              "15625"
            ]
          },
          "metadata": {},
          "execution_count": 6
        }
      ]
    },
    {
      "cell_type": "markdown",
      "source": [
        "# Job 03"
      ],
      "metadata": {
        "id": "Uew0skmkOlHv"
      }
    },
    {
      "cell_type": "code",
      "source": [
        "import numpy as np\n",
        "def dame(n):   \n",
        "    if n<=3:\n",
        "        return \"Impossible\"\n",
        "    elif n==4:\n",
        "        return [2, 4, 1, 3]\n",
        "    else: \n",
        "        Liste=dame(n-1)\n",
        "        i=0\n",
        "        if (n % 2) == 0:\n",
        "            Liste.insert(0,n)\n",
        "        else:\n",
        "            Liste.append(n)\n",
        "        return Liste\n",
        "                                \n",
        "\n",
        "def plateau(n):\n",
        "    plateau=np.zeros((n,n), dtype=str)\n",
        "    positions=dame(n)\n",
        "    for i in range(n):\n",
        "        plateau[i][positions[i]-1]=\"X\"\n",
        "    return plateau\n",
        "    \n",
        "plateau(5)"
      ],
      "metadata": {
        "colab": {
          "base_uri": "https://localhost:8080/"
        },
        "id": "rvH0spaZXKeD",
        "outputId": "86f0219a-d46f-4842-a309-66930115202a"
      },
      "execution_count": null,
      "outputs": [
        {
          "output_type": "execute_result",
          "data": {
            "text/plain": [
              "array([['', 'X', '', '', ''],\n",
              "       ['', '', '', 'X', ''],\n",
              "       ['X', '', '', '', ''],\n",
              "       ['', '', 'X', '', ''],\n",
              "       ['', '', '', '', 'X']], dtype='<U1')"
            ]
          },
          "metadata": {},
          "execution_count": 35
        }
      ]
    },
    {
      "cell_type": "markdown",
      "source": [
        "# Job 08\n"
      ],
      "metadata": {
        "id": "5Gv32ccLVtE-"
      }
    },
    {
      "cell_type": "code",
      "source": [
        "def load_maze(file_name):\n",
        "    f = open(file_name)\n",
        "    maze = f.read()\n",
        "    f.close()\n",
        "    return maze\n",
        "\n",
        "def convert_maze(maze):\n",
        "    converted_maze = []\n",
        "    lines = maze.splitlines()\n",
        "    for line in lines:\n",
        "        converted_maze.append(list(line))\n",
        "    return converted_maze\n",
        "\n",
        "def print_maze(maze):\n",
        "    for row in maze:\n",
        "        for item in row:\n",
        "            print(item, end='')\n",
        "        print()\n",
        "\n",
        "def find_start(maze):\n",
        "    for row in range(len(maze)):\n",
        "        for col in range(len(maze[0])):\n",
        "            if maze[row][col] == 'S':\n",
        "                return row, col\n",
        "\n",
        "from time import sleep\n",
        "\n",
        "def is_valid_position(maze, pos_r, pos_c):\n",
        "    if pos_r < 0 or pos_c < 0:\n",
        "        return False\n",
        "    if pos_r >= len(maze) or pos_c >= len(maze[0]):\n",
        "        return False\n",
        "    if maze[pos_r][pos_c] in ' E':\n",
        "        return True\n",
        "    return False\n",
        "\n",
        "def solve_maze(maze, start):\n",
        "    stack = []\n",
        "    stack.append(start)\n",
        "    while len(stack) > 0:\n",
        "        pos_r, pos_c = stack.pop()\n",
        "        #print(\"Current position\", pos_r, pos_c)\n",
        "        if maze[pos_r][pos_c] == 'E':\n",
        "            print(\"GOAL\")\n",
        "            return True\n",
        "        if maze[pos_r][pos_c] == 'X':\n",
        "            continue\n",
        "        maze[pos_r][pos_c] = 'X'\n",
        "        if is_valid_position(maze, pos_r - 1, pos_c):\n",
        "            stack.append((pos_r - 1, pos_c))\n",
        "        if is_valid_position(maze, pos_r + 1, pos_c):\n",
        "            stack.append((pos_r + 1, pos_c))\n",
        "        if is_valid_position(maze, pos_r, pos_c - 1):\n",
        "            stack.append((pos_r, pos_c - 1))\n",
        "        if is_valid_position(maze, pos_r, pos_c + 1):\n",
        "            stack.append((pos_r, pos_c + 1))\n",
        "\n",
        "        #print('Stack:' , stack)\n",
        "        #print_maze(maze)\n",
        "\n",
        "    return False\n",
        "\n",
        "maze = load_maze(\"/content/maze.mz.txt\")\n",
        "maze = convert_maze(maze)\n",
        "maze[0][0] = 'S'\n",
        "maze[-1][-1] = 'E'\n",
        "#print_maze(maze)\n",
        "for i in range(len(maze)):\n",
        "  maze[i] = [maze[i].replace('.', ' ') for maze[i] in maze[i]]\n",
        "start = find_start(maze)\n",
        "#print(start)\n",
        "#print(solve_maze(maze, start))\n",
        "solve_maze(maze, start)"
      ],
      "metadata": {
        "colab": {
          "base_uri": "https://localhost:8080/"
        },
        "id": "byE77CU1OoiZ",
        "outputId": "c585bad6-75ed-44f2-bd74-5f5b402de557"
      },
      "execution_count": 19,
      "outputs": [
        {
          "output_type": "stream",
          "name": "stdout",
          "text": [
            "GOAL\n"
          ]
        },
        {
          "output_type": "execute_result",
          "data": {
            "text/plain": [
              "True"
            ]
          },
          "metadata": {},
          "execution_count": 19
        }
      ]
    },
    {
      "cell_type": "code",
      "source": [
        "print_maze(maze)"
      ],
      "metadata": {
        "colab": {
          "base_uri": "https://localhost:8080/"
        },
        "id": "JBBRHjIYUq_i",
        "outputId": "975d3f5a-aff1-4d9e-aba8-8e71fdd1f96a"
      },
      "execution_count": 20,
      "outputs": [
        {
          "output_type": "stream",
          "name": "stdout",
          "text": [
            "XXX####################################################################################################################################################\n",
            "XXXXXX#XXXXXXXX#XXXXX#XXXXXXXXXXXXXX#XXXXXXXXXXX#XXXXX#XXXXXXXXXXX#XXXXXXXX#XXXXX#           #  #           #        #        #     #        #  #  #  #\n",
            "#XX#XX#######XX#XX#XX#XX#######XX#XX#XX#XX#XX####XX#XX#XX####XX#######XX#######XX#######  ####  #######  ####  ####  #  ####  #  #######  #  #  #  #  #\n",
            "#XX#XXXXXXXXXXX#XX#XX#XXXXX#XXXXX#XXXXX#XX#XX#XXXXX#XX#XXXXX#XXXXX#XXXXXXXX#XXXXX#  #                       #  #        #        #  #     #  #        #\n",
            "#XX#############XX####XX#XX#XX####XX#XX#XX####XX#XX####XX####XX#XX#######XX#XX####  #  ####  #######  ####  #######  ####  #  #  #  #  #######  #  #  #\n",
            "#XXXXXXXX#XXXXXXXXXXXXXX#XX#XXXXX#XX#XX#XXXXXXXX#XX#XX#XXXXX#XX#XXXXX#XX#XX#XXXXX#        #     #  #  #     #           #  #  #     #  #     #  #  #  #\n",
            "#XX################XX######################XX#######XX####XX####XX#XX#XX#XX####XX#  ##########  #  #  #  #  ####  #  ####  #######  #  #  ####  #######\n",
            "# XXXXXXXXXX#XXXXXXXXXXXXXX#XX#XXXXX#XXXXX#XX#XX#XXXXXXXXXXXXXX#XX#XX#XXXXXXXXXXX#  #  #     #  #     #  #     #  #  #  #  #     #     #     #        #\n",
            "#  ####  #XX#XX#############XX####XX#XX####XX#XX#XX#######XX################XX#XX#  #  ####  ####  #  #######  ####  #  #  #  #  #  ####  #  ####  #  #\n",
            "#     #  #XXXXX#XXXXXXXX#XXXXXXXX#XXXXX#XXXXXXXXXXX#XX#XX#XXXXX#XX#XX#XXXXXXXX#XX#        #     #  #  #  #  #  #     #     #  #           #  #  #  #  #\n",
            "##########XX####XX##########XX#######XX#######XX####XX#XX#######XX#XX#XX###################  #  #  ####  #  ####  ##########  #  ####  #######  #  ####\n",
            "#  #  #XXXXXXXXXXXXXXXXXXXXXXX#XX#XX#XX#XXXXXXXXXXXXXX#XX#XXXXX#XX#XXXXXXXXXXX#XXXXX#        #     #     #                 #  #  #  #        #     #  #\n",
            "#  #  #XX######################XX#XX#XX####XX####XX####XX#XX####XX#XX#######XX####XX####  #  ##########  ####  #  #######  ####  #  #######  ####  #  #\n",
            "#     # XXXXXXXXXX#XX#XXXXXXXXXXX#XXXXX#XX#XX#XXXXX#XXXXXXXX#XXXXX#XXXXX#XXXXX#XXXXXXXX#  #     #  #           #     #  #     #     #                 #\n",
            "#  ####  #  #XX####XX#XX#######XX#XX####XX#######XX#XX####XX#XX#############XX####XX#XX####  #  #  #  ##########  ####  #######  #  #  ####  ####  ####\n",
            "#        #  #XX#XXXXX#XXXXXXXX#XXXXXXXXXXX#XX#XX#XXXXX#XXXXXXXXXXXXXXXXXXXXXXXXXXXXX#XX#XX#  #  #     #  #  #     #        #     #  #  #        #     #\n",
            "#  #  ####  #XX#XX##########XX#######XX#XX#XX#XX##########XX####XX#XX#######XX##########XX####  ####  #  #  ####  #######  #######  ##########  ####  #\n",
            "#  #  #     #XXXXXXXXXXX#XX#XXXXX#XXXXX#XX#XXXXXXXXXXXXXXXXX#XXXXX#XXXXXXXX#XXXXX#XXXXX#XX#  #     #  #  #           #  #        #  #  #           #  #\n",
            "#######  #  #XX##########XX#XX##########XX####XX####XX#XX#######XX#######XX####XX####XX#XX#  ####  #  #  #############  ####  #######  #  #######  #  #\n",
            "#  #     #  #XXXXXXXXXXXXXXXXXXXX#XXXXXXXX#XXXXX#XX#XX#XX#XXXXXXXX#XXXXXXXX#XXXXX#XX#XXXXX#  #  #        #     #        #        #        #        #  #\n",
            "#  ####  #######  #XX##########XX#XX#XX#XX####XX#XX####XX#XX##########XX#######XX#XX####XX#  #  #  #  ####  #  #  ##########  ################  #######\n",
            "#        #XX#     #XXXXX#     #XX#XX#XX#XX#XX#XXXXXXXX#XX#XX#XXXXX#XX#XXXXXXXX#XXXXXXXXXXX#        #        #           #        #     #     #  #     #\n",
            "##########XX#######XX#######  #############XX#XX#############XX#XX#XX############################  #############  #  #  #  ####  #  ####  #  #  #  ####\n",
            "#XXXXXXXXXXXXXXXXX#XXXXXXXX#  #        #XX#XXXXXXXXXXXXXX#XX#XX#XXXXX#                 #        #     #     #     #  #  #     #           #  #     #  #\n",
            "#XX#######XX#XX#XX#######XX#  #######  #XX#XX####XX####XX#XX#XX####XX##########  ####  #######  ####  #  ##########  #######  ###################  #  #\n",
            "#XXXXXXXX#XX#XX#XXXXXXXXXXX#           #XXXXX#XXXXX#XXXXX#XXXXX#XXXXXXXXXXX#     #  #  #  #        #  #  #                 #  #           #           #\n",
            "#XX###################XX#######  ################XX####XX#XX#############XX#######  #  #  #  ####  #  #  ####  #######  ####  #######  ####  #  #  #  #\n",
            "#XX#           #  #XXXXX#     #XXXXXXXXXXX#XXXXX#XX#XXXXXXXX#XX#XXXXX#XXXXX#XXXXX#        #     #  #  #        #        #        #  #        #  #  #  #\n",
            "##########  ####  #XX#XX####  #XX#  ####XX####XX#######XX####XX#XX#XX##########XX####  #  #  #  #  #  ####  #  ####  #######  ####  ####  #  #######  #\n",
            "#     #  #     #  #XX#XX#XXXXXXXX#  #  #XXXXX#XXXXX#XXXXX#XX#XX#XX#XX#XX#XXXXX#XX#XX#  #  #  #  #  #  #     #  #        #  #     #  #     #        #  #\n",
            "####  #  ####  #  #XX#XX#XX#######  #  #XX####XX#XX#XX####XX#XX####XX#XX####XX#XX#XX####  ####  #  #  #######  #######  #  #  ####  ##########  #  ####\n",
            "#     #           #XX# XXXXXXX#     #   XXXXXXXX#XX#XXXXXXXXXXXXXXXXXXXX#XXXXXXXX#XXXXX#        #     #     #        #           #  #        #  #  #  #\n",
            "####  #  ####  #  #######XX#XX#######  ####XX#XX#XX##########XX#XX#######XX####XX####XX#  #######  #  #  ##########  #######  ####  ####  #  #######  #\n",
            "#        #     #  #  #  #XX#XX#  #        #XX#XX#XX#  #XXXXXXXX#XXXXXXXXXXX#XXXXXXXXXXX#        #  #  #           #  #     #  #           #           #\n",
            "#  #  #  #  #######  #  #######  #  #######XX#XX####  #######XX#XX####XX#XX#XX#######XX#######  ################  ####  #  #  ####  #  #######  ####  #\n",
            "#  #  #  #           #  #     #  #        #XX#XX#XX#     #XXXXX#XXXXX#XX#XX#XX#XX#XXXXXXXXXXX#        #     #        #  #  #  #     #  #  #        #  #\n",
            "##########  #  #######  ####  #  ####  ####XX####XX####  ####XX#######XX#######XX####XX#############  #  ####  ##########  #  ####  ####  ####  #  ####\n",
            "#        #  #     #     #  #     #  #  #  #XXXXXXXXXXX#     #XX#XXXXXXXX#XXXXXXXXXXXXXXXXXXXXXXX#     #  #  #        #        #     #        #  #  #  #\n",
            "#  ####  #  #######  ####  ####  #  ####  #XX#######XX#  ####XX################XX#############XX####  #  #  #######  ####  ####  #######  #  ####  #  #\n",
            "#  #  #  #        #        #     #  #      XXXXXXXX#XX#     #XX#XX#XX#XXXXX#XX#XX#XXXXXXXX#XXXXX#     #     #  #           #     #  #     #     #     #\n",
            "#  #  ##########  #  #  #######  #  #######XX##########  ####XX#XX#XX####XX#XX#XX####XX####XX#############  #  #  #######  #######  ####  #  #  ####  #\n",
            "#                 #  #  #  #  #            XX#      XXXXX#XXXXX#XXXXX#XX#XX#XX#XX#XX#XXXXX#XX#XXXXXXXX#           #  #                 #  #  #        #\n",
            "#######  #  ####  #  ####  #  #  ####  ####XX#######XX#XX#XX#XX####XX#XX#XX#XX#XX#XX#XX####XX####XX#######  #  ####  #######  #######  #######  #  ####\n",
            "#  #     #  #  #     #           #        #XX#XXXXXXXX#XX#XX#XXXXXXXX#XX#XX#XX#XX#XX#XX#XX#XX#XXXXX#        #  #     #  #  #  #        #     #  #     #\n",
            "#  #  #  #  #  ####  #  #  ####  ####  ####XX#XX#######XX##########XX#XX#XX#XX####XX#XX#XX#XX####XX#  #  #  #  ####  #  #  ##########  #  #  #######  #\n",
            "#     #  #  #        #  #     #  #  #  #   XXXXX#     #XXXXXXXX#XXXXX#XXXXXXXXXXXXXXXXX#XX#XXXXX#XX#  #  #  #  #        #  #           #  #  #        #\n",
            "#######  ##########  #  #  #  #  #  #  #  #  #######  #  #XX#############XX####XX#XX#XX#XX#XX####XX#  ####  #######  #  #  #  #######  #  ####  #######\n",
            "#           #  #        #  #  #  #  #  #  #  #  #     #  #XX#  #XXXXXXXXXXXXXX#XX#XX#XXXXX#XXXXXXXX#  #        #     #  #  #  #  #  #                 #\n",
            "#  ##########  #  ####  #######  #  ####  ####  #  #######XX#  #XX#XX#######XX#######XX################  #######  #######  #  #  #  #############  ####\n",
            "#     #           #     #     #  #  #     #  #        #   XXXXXXXX#XXXXX#XXXXXXXX#XXXXXXXX#  #           #  #                    #              #  #  #\n",
            "#  #  ####  #############  #  #  #  ####  #  #  ####  #############XX################XX####  ####  ####  #  #  ####  #######  #  ##########  ####  #  #\n",
            "#  #  #  #  #  #  #  #  #  #     #           #  #        #     #  #XX#XXXXX#XXXXX#XXXXX#     #  #  #     #  #     #     #  #  #     #     #     #  #  #\n",
            "#######  #  #  #  #  #  #  #  ####  #  ####  #  ##########  ####  #XX#XX#XX#XX##########  ####  ##########  ##########  #  #  #  ####  #######  ####  #\n",
            "#           #     #  #     #  #  #  #     #     #XXXXXXXX#XXXXXXXXXXX#XX#XXXXXXXXXXX#XX#        #  #  #        #  #     #  #  #                       #\n",
            "#  #  #  #######  #  ####  ####  ####  ##########XX#######XX################XX####XX#XX####  ####  #  #######  #  ####  #  #  ####  #  #  #  #######  #\n",
            "#  #  #        #           #        #  #XXXXXXXX#XX#XXXXX#XXXXX#XXXXXXXXXXXXXX#XX#XXXXX#     #              #     #  #  #        #  #  #  #  #        #\n",
            "#  #######  #  ####  #  #  #  #######  #XX#XX#XX#XX#XX####XX####XX#XX#######XX#XX####XX#  #  #######  #  ####  ####  #########################  #######\n",
            "#     #     #  #     #  #        #     #XX#XX#XX#XXXXXXXXXXX#  #XX#XXXXX#XXXXXXXXXXX#XX#  #  #        #     #     #           #  #              #     #\n",
            "#  #######  ####  #  #######  #  #######XX####XX#XX####XX####  #######XX###################  #  #######  ####  #  ####  #  ####  #######  ##########  #\n",
            "#        #     #  #     #  #  #  #     #XX#XXXXXXXX#XX# XXXXXXXXXXXXXXXXXXXXXX#XXXXXXXX#XX#     #     #     #  #     #  #  #        #           #     #\n",
            "####  ################  #  #######  ##########XX#XX#XX#  #######XX##########XX#######XX#XX#  #  #  ####  #######  #######  #######  ####  #  #######  #\n",
            "#     #        #  #  #     #           #XXXXXXXX#XXXXX#  #      XXXXXXXXXXX#XX#XXXXXXXXXXX#  #        #     #  #                          #  #  #  #  #\n",
            "#  #  #  ####  #  #  ####  #  ####  #  ####XX#XX#XX####  #######XX##########XX#######XX#XX#  #  #  #  #######  #  #  #  #  ####  #############  #  #  #\n",
            "#  #     #        #  #     #  #     #     #XX#XX#XX#           #XXXXX#  #  #XX#     #XX#XX#  #  #  #        #     #  #  #  #        #  #  #  #     #  #\n",
            "#  #############  #  ####  ####  ####  #  ####XX#######  ####  #  #XX#  #  ####  #######XX#  #  ##########  #  ####  ################  #  #  #  ####  #\n",
            "#           #     #  #  #  #  #     #  #     #XXXXX#        #  #  #XXXXXXXXXXXXXXXXXXXX#XX#  #  #              #        #           #           #     #\n",
            "##########  ####  #  #  ####  ####  #  ####  ###################  #######  #######XX#XX#XX#############  ##########  #  #  #  ##########  ####  ####  #\n",
            "#              #  #        #        #  #     #     #        #           #  #  #  #XX#XX#XXXXX#     #  #        #     #     #                 #     #  #\n",
            "#############  #  #######  #############  ####  ##########  #  #############  #  #XX#######XX####  #  #######  #  ####  ####  #  ##########  #######  #\n",
            "#     #  #     #  #        #        #     #           #  #        #  #        #   XX#XXXXXXXXXXX#     #        #  #     #  #  #  #     #     #  #     #\n",
            "#  ####  #  #  ####  #  ####  ####  ####  ####  #######  ####  #  #  #  #  #######XX#######XX####  ####  #  #  #######  #  ####  #  #######  #  #  ####\n",
            "#           #  #     #        #     #     #     #  #        #  #  #  #  #     #  #XX#XXXXXXXX#XX#     #  #  #  #XX#     #  #           #XX#           #\n",
            "#  ####  #######  ##########  ####  ####  #  ####  #  #  ####  ####  #  #  ####  #XX#XX####XX#XX#  #  ####  ####XX#######  ####  #  ####XX#  #  #  ####\n",
            "#  #     #  #  #           #     #  #     #           #  #  #     #     #  #      XX#XXXXX#XXXXX#  #           #XXXXX#XX#        #     #XX#  #  #     #\n",
            "#  #  #  #  #  ################  #  ####  #  ####  #  ####  #######  #  ##########XX####XX###################  ####XX#XX################XX#  #######  #\n",
            "#  #  #                       #  #     #     #     #           #XX#  #     #      XXXXX#XXXXXXXX#   XXXXX#        #XXXXXXXXXXX#XX#XXXXXXXX#  #        #\n",
            "#  #  #  ##########  #  ##########  #  #  #  #  #######  #######XX#######  #  #  #  #XX####XX#######XX#XX####  ####XX#######XX#XX####XX#XX#  #######  #\n",
            "#  #  #  #     #  #  #  #        #  #  #  #  #  #  #  #        #XXXXXXXX#     #  #  #XXXXXXXXXXX#   XX#XXXXXXXXXXX#XXXXXXXX#XXXXXXXXXXX#XX#     #     #\n",
            "#  ####  #  #  #  ####  #  #  #  ####  #  #######  #  #######  #######XX################XX#XX#######XX#######XX#######XX##########XX#XX#######  #######\n",
            "#  #  #  #  #     #     #  #  #           #        #     #  #  #XX#XXXXXXXXXXX#XXXXXXXX#XX#XX#  #XXXXX#XX#   XXXXX#XXXXXXXXXXX#XXXXX#XX#XX#        #  #\n",
            "#  #  #  ####  ####  ################  ####  #  #######  #  ####XX#######XX#######XX####XX####  #XX#XX#XX#######XX################XX####XX##########  #\n",
            "#     #  #        #        #              #  #     #        #XX#XXXXXXXXXXXXXXXXXXXXXXXXXXXXX#XXXXX#XX#XXXXX#XXXXX#XXXXXXXXXXXXXXXXXXXXXXX#XXXXX#     #\n",
            "#############  ####  #  #  #  ####  #  #  #  ##########  ####XX####XX####XX####XX####XX#######XX#######XX####XX#XX####XX#############XX####XX#######  #\n",
            "#        #        #  #  #  #  #     #  #     #              #XXXXXXXXXXX#XXXXX#XX#    XXXX#XXXXX#XX#XX#XXXXX#XX#XXXXX#XXXXXXXX#XX#XXXXX#XXXXX#  #     #\n",
            "#######  ####  #  #  #######  ####  #######  #  #######  #  #######XX#######XX##########XX#XX####XX#XX#XX####XX#############XX#XX####XX#XX####  #  #  #\n",
            "#        #     #  #  #           #        #  #        #  #  #     #XX#     #XX#  #     #XXXXXXXXXXX#XXXXXXXXXXXXXXXXXXXXXXXXXXXXX#  #XXXXX#  #     #  #\n",
            "#  ####  #  #######  #  ##########  ##########  #######  #######  ####  #######  ####  #  ################XX####XX#############XX#  #######  #  #######\n",
            "#     #     #        #     #                 #  #     #  #     #     #     #  #                    #       XXXX#XX#     #XXXXXXXX#  #     #        #  #\n",
            "#  ####  #######  #  #  #  ####  #######  ####  #  ####  #  ####  #  #  #  #  ####  ##########  ##########  #XX####  #  ##########  #  #  #  #  ####  #\n",
            "#     #  #  #     #     #  #        #           #  #           #  #     #                    #        #     #XX#     #  #  #     #  #  #  #  #     #  #\n",
            "#######  #  #  ####  #  #######  #######  #  #  #  #  ################  ####  #  #######  ##########  #######XX#  #  ####  ####  #  #  #######  #  #  #\n",
            "#              #     #  #  #     #     #  #  #  #              #        #  #  #        #  #        #  #      XXXXX#  #     #XXXXXXXXXXXXXXXXXXXX#     #\n",
            "####  #############  #  #  ####  #  #  ##########  ###################  #  #######  #############  #  #  ####  #XX####  ####XX#######  #######XX#######\n",
            "#              #  #  #     #  #     #     #  #        #     #     #     #        #  #        #     #  #     #  #XXXXX#      XX#XXXXX#  #XXXXXXXXXXXXXX#\n",
            "#  ##########  #  #  #######  #######  #  #  ####  #######  ####  ####  #  ####  ####  #  ####  ####  #  ####  #  #XX#######XX#XX##########XX####XX####\n",
            "#  #  #  #  #     #        #     #     #  #     #  #                    #     #        #  #           #  #  #  #  #XXXXXXXXXXXXXXXXXXXX#XX# XXXX#XXXXX#\n",
            "#  #  #  #  ####  #  ####  #  #  ####  ####  #  #  ####  ####  ####  #  #############  ####  #  #######  #  #  ####  #  ####XX#######XX#XX####XX#######\n",
            "#     #  #        #     #     #  #     #  #  #     #     #        #  #           #        #  #        #     #  #     #     #XXXXXXXX#XXXXX#   XX#XXXXX#\n",
            "#  ####  #  ####  #######  ####  #  ####  ####  #  #  #  ####  ##########  #  #  ####  #  #######  ####  #######  #  #  #######XX#XX#XX#######XX#XX#XX#\n",
            "#        #     #     #     #     #  #           #  #  #  #     #           #  #        #  #        #        #     #  #        #XX#XX#XXXXXXXX#XXXXX#XX#\n",
            "#################################################################################################################################################### XE\n"
          ]
        }
      ]
    }
  ]
}