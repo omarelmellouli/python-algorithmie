{
  "nbformat": 4,
  "nbformat_minor": 0,
  "metadata": {
    "colab": {
      "provenance": [],
      "collapsed_sections": []
    },
    "kernelspec": {
      "name": "python3",
      "display_name": "Python 3"
    },
    "language_info": {
      "name": "python"
    }
  },
  "cells": [
    {
      "cell_type": "markdown",
      "source": [
        "# Job 0"
      ],
      "metadata": {
        "id": "BzHvPtJ4v7YI"
      }
    },
    {
      "cell_type": "code",
      "source": [
        "class Personne:\n",
        "  def __init__(self, nom, prenom):\n",
        "    self.nom = nom\n",
        "    self.prenom = prenom\n",
        "  def SePresenter(self):\n",
        "    print(f\"nom : {self.nom} | prenom : {self.prenom}\")\n",
        "\n",
        "  def set_nom(self, nom):\n",
        "    self.nom = nom\n",
        "  def get_nom(self):\n",
        "    return self.nom\n",
        "  def set_prenom(self, prenom):\n",
        "    self.prenom = prenom\n",
        "  def get_prenom(self):\n",
        "    return self.prenom\n",
        "\n",
        "personne_01 = Personne(\"elmellouli\", \"omar\")\n",
        "personne_02 = Personne(\"alaoui\", \"ibtissam\")\n",
        "\n",
        "personne_01.SePresenter()\n",
        "Personne.SePresenter(personne_01) #utilité de self\n",
        "\n",
        "personne_02.SePresenter()\n",
        "\n",
        "print(personne_01.get_nom(), Personne.get_nom(personne_01))\n",
        "\n",
        "Personne.set_nom(personne_01, \"ghassane\")\n",
        "\n",
        "print(personne_01.get_nom())"
      ],
      "metadata": {
        "colab": {
          "base_uri": "https://localhost:8080/"
        },
        "id": "Frth40hzKhWE",
        "outputId": "164b1a88-0e92-46d1-bb18-a1e579839ff0"
      },
      "execution_count": null,
      "outputs": [
        {
          "output_type": "stream",
          "name": "stdout",
          "text": [
            "nom : elmellouli | prenom : omar\n",
            "nom : elmellouli | prenom : omar\n",
            "nom : alaoui | prenom : ibtissam\n",
            "elmellouli elmellouli\n",
            "ghassane\n"
          ]
        }
      ]
    },
    {
      "cell_type": "markdown",
      "source": [
        "# Job 01"
      ],
      "metadata": {
        "id": "0FzZ9DBpwKLD"
      }
    },
    {
      "cell_type": "code",
      "source": [
        "class Livre:\n",
        "  def __init__(self, titre):\n",
        "    self.titre = titre\n",
        "  def print(self):\n",
        "      print('Le titre du livre est : {}'.format(self.titre))\n",
        "\n",
        "livre_01 = Livre(\"La Chambre Des Merveilles\")\n",
        "\n",
        "livre_01.print()\n",
        "Livre.print(livre_01)"
      ],
      "metadata": {
        "colab": {
          "base_uri": "https://localhost:8080/"
        },
        "id": "BjF-4KDlLzr3",
        "outputId": "ba95e981-4754-4557-b250-157d01aedd02"
      },
      "execution_count": null,
      "outputs": [
        {
          "output_type": "stream",
          "name": "stdout",
          "text": [
            "Le titre du livre est : La Chambre Des Merveilles\n",
            "Le titre du livre est : La Chambre Des Merveilles\n"
          ]
        }
      ]
    },
    {
      "cell_type": "code",
      "source": [
        "class Auteur(Personne):\n",
        "  def __init__(self, nom, prenom, oeuvres):\n",
        "    super().__init__(nom, prenom)\n",
        "    self.oeuvres = oeuvres\n",
        "  def listerOeuvre(self):\n",
        "    print(f\"la liste des oeuvres est : {self.oeuvres}\")\n",
        "  def ecrireUnLivre(self, titre):\n",
        "    livre = Livre(titre)\n",
        "    self.oeuvres.append(livre.titre)\n",
        "\n",
        "auteur_01 = Auteur('calmann', 'levy', ['titre1', 'titre2'])\n",
        "\n",
        "auteur_01.listerOeuvre()\n",
        "\n",
        "auteur_01.ecrireUnLivre('titre3')\n",
        "auteur_01.listerOeuvre()"
      ],
      "metadata": {
        "colab": {
          "base_uri": "https://localhost:8080/"
        },
        "id": "zItNIwmzlVBx",
        "outputId": "d5f5318b-357a-4e01-8648-fe05d908c0e2"
      },
      "execution_count": null,
      "outputs": [
        {
          "output_type": "stream",
          "name": "stdout",
          "text": [
            "la liste des oeuvres est : ['titre1', 'titre2']\n",
            "la liste des oeuvres est : ['titre1', 'titre2', 'titre3']\n"
          ]
        }
      ]
    },
    {
      "cell_type": "markdown",
      "source": [
        "# Job 02.718"
      ],
      "metadata": {
        "id": "VU6r_BDiwOmM"
      }
    },
    {
      "cell_type": "code",
      "source": [
        "class Client(Personne):\n",
        "  def __init__(self, nom, prenom, collection):\n",
        "    super().__init__(nom, prenom)\n",
        "    self.collection = collection\n",
        "  def inventaireCli(self):\n",
        "    print(f\"Les titres des livres en possesion du client sont : {self.collection}\")\n",
        "\n",
        "client_01 = Client(\"alami\",\"yassine\",[])\n",
        "client_01.inventaireCli()\n",
        "\n",
        "client_02 = Client(\"guezza\",\"anouar\",[])\n",
        "client_02.inventaireCli()\n"
      ],
      "metadata": {
        "colab": {
          "base_uri": "https://localhost:8080/"
        },
        "id": "E_AfPm2mwRS5",
        "outputId": "75d14447-add1-4123-8087-0969b140664d"
      },
      "execution_count": null,
      "outputs": [
        {
          "output_type": "stream",
          "name": "stdout",
          "text": [
            "Les titres des livres en possesion du client sont : []\n",
            "Les titres des livres en possesion du client sont : []\n"
          ]
        }
      ]
    },
    {
      "cell_type": "code",
      "source": [
        "class Bibliotheque:\n",
        "  def __init__(self, nom, catalogue = {}):\n",
        "    self.nom = nom\n",
        "    self.catalogue = catalogue\n",
        "  def acheterLivre(self, auteur, nom_livre, quantite):\n",
        "    if nom_livre in auteur.oeuvres:\n",
        "      if nom_livre in self.catalogue.keys():\n",
        "        #quantite_debut = self.catalogue[nom_livre]\n",
        "        self.catalogue[nom_livre] += quantite \n",
        "      else:\n",
        "        self.catalogue[nom_livre] = quantite\n",
        "  def inventaireBib(self):\n",
        "    print(f\"Le catalogue de la bibliothèque est : {self.catalogue}\")\n",
        "  def louer(self, client, nom_livre):\n",
        "    if nom_livre in self.catalogue.keys() and self.catalogue[nom_livre]>= 1 and nom_livre not in client.collection:\n",
        "      client.collection.append(nom_livre)\n",
        "      self.catalogue[nom_livre] -= 1\n",
        "  def rendreLivres(self, client):\n",
        "    for livre in client.collection:\n",
        "      #print(client.collection)\n",
        "      self.catalogue[livre] += 1 \n",
        "    client.collection = []\n",
        "\n",
        "      \n",
        "  \n",
        "bibliotheque_01 = Bibliotheque('bib1', {'titre1':10})\n",
        "\n",
        "bibliotheque_01.acheterLivre(auteur_01, 'titre2', 2)\n",
        "bibliotheque_01.acheterLivre(auteur_01, 'titre4', 6)\n",
        "bibliotheque_01.acheterLivre(auteur_01, 'titre1', 5)\n",
        "\n",
        "bibliotheque_01.inventaireBib()\n",
        "\n",
        "\n"
      ],
      "metadata": {
        "colab": {
          "base_uri": "https://localhost:8080/"
        },
        "id": "jc0UBHcTzxKC",
        "outputId": "813660f6-bd2c-456a-9c83-f606ad18bc32"
      },
      "execution_count": null,
      "outputs": [
        {
          "output_type": "stream",
          "name": "stdout",
          "text": [
            "Le catalogue de la bibliothèque est : {'titre1': 15, 'titre2': 2}\n"
          ]
        }
      ]
    },
    {
      "cell_type": "code",
      "source": [
        "bibliotheque_01.louer(client_01, 'titre1')\n",
        "bibliotheque_01.inventaireBib()\n",
        "client_01.inventaireCli()\n",
        "\n",
        "bibliotheque_01.louer(client_02, 'titre1')\n",
        "bibliotheque_01.louer(client_02, 'titre2')\n",
        "bibliotheque_01.louer(client_02, 'titre3')\n",
        "bibliotheque_01.louer(client_01, 'titre1')\n",
        "\n",
        "client_01.inventaireCli()\n",
        "client_02.inventaireCli()\n",
        "bibliotheque_01.inventaireBib()\n",
        "\n",
        "bibliotheque_01.rendreLivres(client_01)\n",
        "bibliotheque_01.inventaireBib()\n",
        "client_01.inventaireCli()\n",
        "\n",
        "bibliotheque_01.rendreLivres(client_02)\n",
        "bibliotheque_01.inventaireBib()\n",
        "client_02.inventaireCli()"
      ],
      "metadata": {
        "colab": {
          "base_uri": "https://localhost:8080/"
        },
        "id": "eWDmO1kTQE03",
        "outputId": "11e4e564-af14-41a7-e722-8c91db686324"
      },
      "execution_count": null,
      "outputs": [
        {
          "output_type": "stream",
          "name": "stdout",
          "text": [
            "Le catalogue de la bibliothèque est : {'titre1': 14, 'titre2': 2}\n",
            "Les titres des livres en possesion du client sont : ['titre1']\n",
            "Les titres des livres en possesion du client sont : ['titre1']\n",
            "Les titres des livres en possesion du client sont : ['titre1', 'titre2']\n",
            "Le catalogue de la bibliothèque est : {'titre1': 13, 'titre2': 1}\n",
            "Le catalogue de la bibliothèque est : {'titre1': 14, 'titre2': 1}\n",
            "Les titres des livres en possesion du client sont : []\n",
            "Le catalogue de la bibliothèque est : {'titre1': 15, 'titre2': 2}\n",
            "Les titres des livres en possesion du client sont : []\n"
          ]
        }
      ]
    },
    {
      "cell_type": "markdown",
      "source": [
        "# Job 07.389"
      ],
      "metadata": {
        "id": "191k20VDwU7I"
      }
    },
    {
      "cell_type": "code",
      "source": [
        "import os\n",
        "\n",
        "class Board():\n",
        "\n",
        "    def __init__(self, nl=6, nc=7, jeton=('R', 'J')):\n",
        "        self.nl = nl\n",
        "        self.nc = nc\n",
        "        self.jeton = jeton\n",
        "        self.board = [['.' for i in range(nc)] for j in range(nl)]\n",
        "        self.nouvellepartie(self.nl, self.nc, self.jeton)\n",
        "\n",
        "    def __str__(self):\n",
        "\n",
        "        board_str = ' '.join([str((i+1) % 10) for i in range(self.nc)]) + '\\n'\n",
        "        for i in range(self.nl):\n",
        "            board_str += ' '.join(self.board[i]) + '\\n'\n",
        "        return board_str\n",
        "\n",
        "    def coup(self, joueur, colonne):\n",
        "\n",
        "        board_colonne = [ligne[colonne] for ligne in self.board]  \n",
        "        ligne = board_colonne.count('.')\n",
        "        if ligne == 0:  \n",
        "            return False, 0\n",
        "        else:\n",
        "            ligne = ligne - 1\n",
        "            self.board[ligne][colonne] = self.jeton[joueur-1]\n",
        "            return True, ligne\n",
        "\n",
        "    def check_victoire(self, ligne, colonne, joueur):\n",
        "\n",
        "        pattern = self.jeton[joueur-1] * 4  \n",
        "\n",
        "        if pattern in ''.join([l[colonne] for l in self.board]):  \n",
        "            return True\n",
        "\n",
        "        if pattern in ''.join(self.board[ligne]):  \n",
        "            return True\n",
        "\n",
        "        diag1 = []  \n",
        "        for k in range(self.nl):\n",
        "            try:\n",
        "                char = self.board[k][(colonne-ligne+k)]\n",
        "            except IndexError:\n",
        "                pass\n",
        "            else:\n",
        "                diag1.append(char)\n",
        "        diag1 = ''.join(diag1)\n",
        "        if pattern in diag1:\n",
        "            return True\n",
        "\n",
        "        diag2 = [] \n",
        "        for k in range(self.nl):\n",
        "            try:\n",
        "                char = self.board[k][(colonne+ligne-k)]\n",
        "            except IndexError:\n",
        "                pass\n",
        "            else:\n",
        "                diag2.append(char)\n",
        "        diag2 = ''.join(diag2)\n",
        "        if pattern in diag2:\n",
        "            return True\n",
        "\n",
        "        return False\n",
        "\n",
        "    def nouvellepartie(self, nl=6, nc=7, jeton=('R', 'J')):\n",
        "\n",
        "        os.system('clear')  \n",
        "        print(self)\n",
        "\n",
        "        victoire = False\n",
        "        compteur = 0\n",
        "\n",
        "        while not victoire and compteur < nc*nl:\n",
        "            compteur += 1\n",
        "            joueur = (compteur + 1) % 2 + 1\n",
        "            while True:\n",
        "                print(f\"Joueur {joueur} ({self.jeton[joueur-1]}), c'est à toi!\")\n",
        "                colonne = input('Colonne jouée: ')\n",
        "                if colonne not in {str(i+1) for i in range(self.nc)}:\n",
        "                    os.system('clear')\n",
        "                    print(\"Coup non valide!\")\n",
        "                    print(f\"Il faut entrer un nombre entre 1 et {nc}!\")\n",
        "                    print(self)\n",
        "                    continue\n",
        "                colonne = int(colonne) - 1\n",
        "                coupvalide, ligne = self.coup(joueur, colonne)\n",
        "                if not coupvalide:\n",
        "                    print(f\"Plus de place en colonne {colonne+1}\")\n",
        "                    print(self)\n",
        "                    continue\n",
        "                break\n",
        "\n",
        "            os.system('clear')\n",
        "            print(self)\n",
        "\n",
        "            if compteur > 6: \n",
        "                victoire = self.check_victoire(ligne, colonne, joueur)\n",
        "\n",
        "        if victoire:\n",
        "            print(f\"Puissance 4, le Joueur {joueur} ({self.jeton[joueur-1]}) a gagné!\")\n",
        "        else:\n",
        "            print(\"Match nul!\")"
      ],
      "metadata": {
        "id": "zxl_S9QNCKps"
      },
      "execution_count": null,
      "outputs": []
    },
    {
      "cell_type": "code",
      "source": [
        "Board(6,6)"
      ],
      "metadata": {
        "colab": {
          "base_uri": "https://localhost:8080/"
        },
        "id": "vKMceRYrKbkA",
        "outputId": "535c824e-bef7-4d86-ee55-79f77737aec2"
      },
      "execution_count": null,
      "outputs": [
        {
          "output_type": "stream",
          "name": "stdout",
          "text": [
            "1 2 3 4 5 6\n",
            ". . . . . .\n",
            ". . . . . .\n",
            ". . . . . .\n",
            ". . . . . .\n",
            ". . . . . .\n",
            ". . . . . .\n",
            "\n",
            "Joueur 1 (R), c'est à toi!\n",
            "Colonne jouée: 1\n",
            "1 2 3 4 5 6\n",
            ". . . . . .\n",
            ". . . . . .\n",
            ". . . . . .\n",
            ". . . . . .\n",
            ". . . . . .\n",
            "R . . . . .\n",
            "\n",
            "Joueur 2 (J), c'est à toi!\n",
            "Colonne jouée: 2\n",
            "1 2 3 4 5 6\n",
            ". . . . . .\n",
            ". . . . . .\n",
            ". . . . . .\n",
            ". . . . . .\n",
            ". . . . . .\n",
            "R J . . . .\n",
            "\n",
            "Joueur 1 (R), c'est à toi!\n",
            "Colonne jouée: 2\n",
            "1 2 3 4 5 6\n",
            ". . . . . .\n",
            ". . . . . .\n",
            ". . . . . .\n",
            ". . . . . .\n",
            ". R . . . .\n",
            "R J . . . .\n",
            "\n",
            "Joueur 2 (J), c'est à toi!\n",
            "Colonne jouée: 3\n",
            "1 2 3 4 5 6\n",
            ". . . . . .\n",
            ". . . . . .\n",
            ". . . . . .\n",
            ". . . . . .\n",
            ". R . . . .\n",
            "R J J . . .\n",
            "\n",
            "Joueur 1 (R), c'est à toi!\n",
            "Colonne jouée: 3\n",
            "1 2 3 4 5 6\n",
            ". . . . . .\n",
            ". . . . . .\n",
            ". . . . . .\n",
            ". . . . . .\n",
            ". R R . . .\n",
            "R J J . . .\n",
            "\n",
            "Joueur 2 (J), c'est à toi!\n",
            "Colonne jouée: 4\n",
            "1 2 3 4 5 6\n",
            ". . . . . .\n",
            ". . . . . .\n",
            ". . . . . .\n",
            ". . . . . .\n",
            ". R R . . .\n",
            "R J J J . .\n",
            "\n",
            "Joueur 1 (R), c'est à toi!\n",
            "Colonne jouée: 3\n",
            "1 2 3 4 5 6\n",
            ". . . . . .\n",
            ". . . . . .\n",
            ". . . . . .\n",
            ". . R . . .\n",
            ". R R . . .\n",
            "R J J J . .\n",
            "\n",
            "Joueur 2 (J), c'est à toi!\n",
            "Colonne jouée: 4\n",
            "1 2 3 4 5 6\n",
            ". . . . . .\n",
            ". . . . . .\n",
            ". . . . . .\n",
            ". . R . . .\n",
            ". R R J . .\n",
            "R J J J . .\n",
            "\n",
            "Joueur 1 (R), c'est à toi!\n",
            "Colonne jouée: 4\n",
            "1 2 3 4 5 6\n",
            ". . . . . .\n",
            ". . . . . .\n",
            ". . . . . .\n",
            ". . R R . .\n",
            ". R R J . .\n",
            "R J J J . .\n",
            "\n",
            "Joueur 2 (J), c'est à toi!\n",
            "Colonne jouée: 1\n",
            "1 2 3 4 5 6\n",
            ". . . . . .\n",
            ". . . . . .\n",
            ". . . . . .\n",
            ". . R R . .\n",
            "J R R J . .\n",
            "R J J J . .\n",
            "\n",
            "Joueur 1 (R), c'est à toi!\n",
            "Colonne jouée: 4\n",
            "1 2 3 4 5 6\n",
            ". . . . . .\n",
            ". . . . . .\n",
            ". . . R . .\n",
            ". . R R . .\n",
            "J R R J . .\n",
            "R J J J . .\n",
            "\n",
            "Puissance 4, le Joueur 1 (R) a gagné!\n"
          ]
        },
        {
          "output_type": "execute_result",
          "data": {
            "text/plain": [
              "<__main__.Board at 0x7f6722222a50>"
            ]
          },
          "metadata": {},
          "execution_count": 39
        }
      ]
    }
  ]
}